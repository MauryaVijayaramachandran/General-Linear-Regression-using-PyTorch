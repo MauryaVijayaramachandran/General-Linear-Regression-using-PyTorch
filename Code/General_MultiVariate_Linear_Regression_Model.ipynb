{
  "nbformat": 4,
  "nbformat_minor": 0,
  "metadata": {
    "colab": {
      "provenance": []
    },
    "kernelspec": {
      "name": "python3",
      "display_name": "Python 3"
    },
    "language_info": {
      "name": "python"
    },
    "accelerator": "GPU",
    "gpuClass": "standard"
  },
  "cells": [
    {
      "cell_type": "markdown",
      "source": [
        "Import the libraries "
      ],
      "metadata": {
        "id": "ONepf0t8yqBo"
      }
    },
    {
      "cell_type": "code",
      "source": [
        "import torch\n",
        "import torch.nn as nn\n",
        "import numpy as np\n",
        "import pandas as pd"
      ],
      "metadata": {
        "id": "wIJTh3pHURCL"
      },
      "execution_count": 1,
      "outputs": []
    },
    {
      "cell_type": "markdown",
      "source": [
        "Loading the data and splitting it into features and targets. \n",
        "\n",
        "1. We then set the train_size to 80% of the size of training data and we perform the test, train split"
      ],
      "metadata": {
        "id": "W-8zzYw988z-"
      }
    },
    {
      "cell_type": "code",
      "source": [
        "# Load the data\n",
        "data = pd.read_csv(\"/content/data/yield_data.csv\")\n",
        "\n",
        "# Split the data into features and targets\n",
        "X = data[[\"Temperature (°C)\"\t,\"Humidity (%)\",\t\"Rainfall (mm)\"]]\n",
        "y = data[[\"Apple Yield (tons)\",\t\"Orange Yield (tons)\"]]\n",
        "\n",
        "# Split the data into training and testing sets\n",
        "train_size = int(0.8 * len(data))\n",
        "X_train, y_train = X[:train_size], y[:train_size]\n",
        "X_test, y_test = X[train_size:], y[train_size:]"
      ],
      "metadata": {
        "id": "W_ta6aBpVaV0"
      },
      "execution_count": 67,
      "outputs": []
    },
    {
      "cell_type": "markdown",
      "source": [
        "We then visualize the data "
      ],
      "metadata": {
        "id": "YEJhOoPZ9LOD"
      }
    },
    {
      "cell_type": "code",
      "source": [
        "data.head()"
      ],
      "metadata": {
        "colab": {
          "base_uri": "https://localhost:8080/",
          "height": 267
        },
        "id": "7Fxs3GtWZf2x",
        "outputId": "c9a35a6d-16c0-46cf-fd5d-57ef478d41cd"
      },
      "execution_count": 3,
      "outputs": [
        {
          "output_type": "execute_result",
          "data": {
            "text/plain": [
              "   Temperature (°C)  Humidity (%)  Rainfall (mm)  Apple Yield (tons)  \\\n",
              "0         18.595528     52.578431      86.207877           41.672519   \n",
              "1         19.746958     75.403745      23.143332           45.647457   \n",
              "2         26.087425     75.858556      57.170663           44.190152   \n",
              "3         22.079828     73.673775      98.237110           31.475872   \n",
              "4         23.983127     81.669593      60.065625           43.271421   \n",
              "\n",
              "   Orange Yield (tons)  \n",
              "0            36.470067  \n",
              "1            37.289553  \n",
              "2            14.861612  \n",
              "3            11.865185  \n",
              "4            31.353973  "
            ],
            "text/html": [
              "\n",
              "  <div id=\"df-1617fe3b-e9b5-47c3-b993-44ee8e869427\">\n",
              "    <div class=\"colab-df-container\">\n",
              "      <div>\n",
              "<style scoped>\n",
              "    .dataframe tbody tr th:only-of-type {\n",
              "        vertical-align: middle;\n",
              "    }\n",
              "\n",
              "    .dataframe tbody tr th {\n",
              "        vertical-align: top;\n",
              "    }\n",
              "\n",
              "    .dataframe thead th {\n",
              "        text-align: right;\n",
              "    }\n",
              "</style>\n",
              "<table border=\"1\" class=\"dataframe\">\n",
              "  <thead>\n",
              "    <tr style=\"text-align: right;\">\n",
              "      <th></th>\n",
              "      <th>Temperature (°C)</th>\n",
              "      <th>Humidity (%)</th>\n",
              "      <th>Rainfall (mm)</th>\n",
              "      <th>Apple Yield (tons)</th>\n",
              "      <th>Orange Yield (tons)</th>\n",
              "    </tr>\n",
              "  </thead>\n",
              "  <tbody>\n",
              "    <tr>\n",
              "      <th>0</th>\n",
              "      <td>18.595528</td>\n",
              "      <td>52.578431</td>\n",
              "      <td>86.207877</td>\n",
              "      <td>41.672519</td>\n",
              "      <td>36.470067</td>\n",
              "    </tr>\n",
              "    <tr>\n",
              "      <th>1</th>\n",
              "      <td>19.746958</td>\n",
              "      <td>75.403745</td>\n",
              "      <td>23.143332</td>\n",
              "      <td>45.647457</td>\n",
              "      <td>37.289553</td>\n",
              "    </tr>\n",
              "    <tr>\n",
              "      <th>2</th>\n",
              "      <td>26.087425</td>\n",
              "      <td>75.858556</td>\n",
              "      <td>57.170663</td>\n",
              "      <td>44.190152</td>\n",
              "      <td>14.861612</td>\n",
              "    </tr>\n",
              "    <tr>\n",
              "      <th>3</th>\n",
              "      <td>22.079828</td>\n",
              "      <td>73.673775</td>\n",
              "      <td>98.237110</td>\n",
              "      <td>31.475872</td>\n",
              "      <td>11.865185</td>\n",
              "    </tr>\n",
              "    <tr>\n",
              "      <th>4</th>\n",
              "      <td>23.983127</td>\n",
              "      <td>81.669593</td>\n",
              "      <td>60.065625</td>\n",
              "      <td>43.271421</td>\n",
              "      <td>31.353973</td>\n",
              "    </tr>\n",
              "  </tbody>\n",
              "</table>\n",
              "</div>\n",
              "      <button class=\"colab-df-convert\" onclick=\"convertToInteractive('df-1617fe3b-e9b5-47c3-b993-44ee8e869427')\"\n",
              "              title=\"Convert this dataframe to an interactive table.\"\n",
              "              style=\"display:none;\">\n",
              "        \n",
              "  <svg xmlns=\"http://www.w3.org/2000/svg\" height=\"24px\"viewBox=\"0 0 24 24\"\n",
              "       width=\"24px\">\n",
              "    <path d=\"M0 0h24v24H0V0z\" fill=\"none\"/>\n",
              "    <path d=\"M18.56 5.44l.94 2.06.94-2.06 2.06-.94-2.06-.94-.94-2.06-.94 2.06-2.06.94zm-11 1L8.5 8.5l.94-2.06 2.06-.94-2.06-.94L8.5 2.5l-.94 2.06-2.06.94zm10 10l.94 2.06.94-2.06 2.06-.94-2.06-.94-.94-2.06-.94 2.06-2.06.94z\"/><path d=\"M17.41 7.96l-1.37-1.37c-.4-.4-.92-.59-1.43-.59-.52 0-1.04.2-1.43.59L10.3 9.45l-7.72 7.72c-.78.78-.78 2.05 0 2.83L4 21.41c.39.39.9.59 1.41.59.51 0 1.02-.2 1.41-.59l7.78-7.78 2.81-2.81c.8-.78.8-2.07 0-2.86zM5.41 20L4 18.59l7.72-7.72 1.47 1.35L5.41 20z\"/>\n",
              "  </svg>\n",
              "      </button>\n",
              "      \n",
              "  <style>\n",
              "    .colab-df-container {\n",
              "      display:flex;\n",
              "      flex-wrap:wrap;\n",
              "      gap: 12px;\n",
              "    }\n",
              "\n",
              "    .colab-df-convert {\n",
              "      background-color: #E8F0FE;\n",
              "      border: none;\n",
              "      border-radius: 50%;\n",
              "      cursor: pointer;\n",
              "      display: none;\n",
              "      fill: #1967D2;\n",
              "      height: 32px;\n",
              "      padding: 0 0 0 0;\n",
              "      width: 32px;\n",
              "    }\n",
              "\n",
              "    .colab-df-convert:hover {\n",
              "      background-color: #E2EBFA;\n",
              "      box-shadow: 0px 1px 2px rgba(60, 64, 67, 0.3), 0px 1px 3px 1px rgba(60, 64, 67, 0.15);\n",
              "      fill: #174EA6;\n",
              "    }\n",
              "\n",
              "    [theme=dark] .colab-df-convert {\n",
              "      background-color: #3B4455;\n",
              "      fill: #D2E3FC;\n",
              "    }\n",
              "\n",
              "    [theme=dark] .colab-df-convert:hover {\n",
              "      background-color: #434B5C;\n",
              "      box-shadow: 0px 1px 3px 1px rgba(0, 0, 0, 0.15);\n",
              "      filter: drop-shadow(0px 1px 2px rgba(0, 0, 0, 0.3));\n",
              "      fill: #FFFFFF;\n",
              "    }\n",
              "  </style>\n",
              "\n",
              "      <script>\n",
              "        const buttonEl =\n",
              "          document.querySelector('#df-1617fe3b-e9b5-47c3-b993-44ee8e869427 button.colab-df-convert');\n",
              "        buttonEl.style.display =\n",
              "          google.colab.kernel.accessAllowed ? 'block' : 'none';\n",
              "\n",
              "        async function convertToInteractive(key) {\n",
              "          const element = document.querySelector('#df-1617fe3b-e9b5-47c3-b993-44ee8e869427');\n",
              "          const dataTable =\n",
              "            await google.colab.kernel.invokeFunction('convertToInteractive',\n",
              "                                                     [key], {});\n",
              "          if (!dataTable) return;\n",
              "\n",
              "          const docLinkHtml = 'Like what you see? Visit the ' +\n",
              "            '<a target=\"_blank\" href=https://colab.research.google.com/notebooks/data_table.ipynb>data table notebook</a>'\n",
              "            + ' to learn more about interactive tables.';\n",
              "          element.innerHTML = '';\n",
              "          dataTable['output_type'] = 'display_data';\n",
              "          await google.colab.output.renderOutput(dataTable, element);\n",
              "          const docLink = document.createElement('div');\n",
              "          docLink.innerHTML = docLinkHtml;\n",
              "          element.appendChild(docLink);\n",
              "        }\n",
              "      </script>\n",
              "    </div>\n",
              "  </div>\n",
              "  "
            ]
          },
          "metadata": {},
          "execution_count": 3
        }
      ]
    },
    {
      "cell_type": "code",
      "source": [
        "X.head(), X_train.head(), X_test.head(), y.head(), y_train.head(), y_test.head()"
      ],
      "metadata": {
        "colab": {
          "base_uri": "https://localhost:8080/"
        },
        "id": "DPMZW7MBWMLk",
        "outputId": "93fef3f5-6bf5-4066-ff25-39564855423c"
      },
      "execution_count": 4,
      "outputs": [
        {
          "output_type": "execute_result",
          "data": {
            "text/plain": [
              "(   Temperature (°C)  Humidity (%)  Rainfall (mm)\n",
              " 0         18.595528     52.578431      86.207877\n",
              " 1         19.746958     75.403745      23.143332\n",
              " 2         26.087425     75.858556      57.170663\n",
              " 3         22.079828     73.673775      98.237110\n",
              " 4         23.983127     81.669593      60.065625,\n",
              "    Temperature (°C)  Humidity (%)  Rainfall (mm)\n",
              " 0         18.595528     52.578431      86.207877\n",
              " 1         19.746958     75.403745      23.143332\n",
              " 2         26.087425     75.858556      57.170663\n",
              " 3         22.079828     73.673775      98.237110\n",
              " 4         23.983127     81.669593      60.065625,\n",
              "      Temperature (°C)  Humidity (%)  Rainfall (mm)\n",
              " 800         17.807829     75.402491      39.437818\n",
              " 801         15.790894     59.793964      61.583397\n",
              " 802         22.642642     65.394859      43.320417\n",
              " 803         26.643526     52.079583      83.875216\n",
              " 804         26.923264     54.880430      26.256636,\n",
              "    Apple Yield (tons)  Orange Yield (tons)\n",
              " 0           41.672519            36.470067\n",
              " 1           45.647457            37.289553\n",
              " 2           44.190152            14.861612\n",
              " 3           31.475872            11.865185\n",
              " 4           43.271421            31.353973,\n",
              "    Apple Yield (tons)  Orange Yield (tons)\n",
              " 0           41.672519            36.470067\n",
              " 1           45.647457            37.289553\n",
              " 2           44.190152            14.861612\n",
              " 3           31.475872            11.865185\n",
              " 4           43.271421            31.353973,\n",
              "      Apple Yield (tons)  Orange Yield (tons)\n",
              " 800           42.498849            21.031877\n",
              " 801           25.764977            23.952869\n",
              " 802           22.915165            28.013751\n",
              " 803           17.901149            39.119307\n",
              " 804           48.076028            21.663099)"
            ]
          },
          "metadata": {},
          "execution_count": 4
        }
      ]
    },
    {
      "cell_type": "code",
      "source": [
        "len(X_train), len(X_test), len(y_train), len(y_test)"
      ],
      "metadata": {
        "colab": {
          "base_uri": "https://localhost:8080/"
        },
        "id": "TPeV7GFZWzYG",
        "outputId": "5059b16e-9c50-47c6-b0b9-5007098dba15"
      },
      "execution_count": 5,
      "outputs": [
        {
          "output_type": "execute_result",
          "data": {
            "text/plain": [
              "(800, 200, 800, 200)"
            ]
          },
          "metadata": {},
          "execution_count": 5
        }
      ]
    },
    {
      "cell_type": "markdown",
      "source": [
        "We construct out MultivariateLinearRegression Model by subclassing the nn.Module \n",
        "\n",
        "1. In total there are 10 layers \n",
        "> The first layer is the input layer \n",
        ">layers 2 to 9 are the hidden layers\n",
        "2. layer 10 is the output layer. \n",
        "\n",
        "our forward pass employs the rectified linear unit (Relu) activation function to each layer. \n",
        "\n",
        "We return the out features. "
      ],
      "metadata": {
        "id": "29hjlii79Pcy"
      }
    },
    {
      "cell_type": "code",
      "source": [
        "class MultiVariateLinearRegression(nn.Module):\n",
        "    def __init__(self, input_size, output_size):\n",
        "        super().__init__()\n",
        "        self.layer1 = nn.Linear(input_size, 64)\n",
        "        self.layer2 = nn.Linear(64, 128)\n",
        "        self.layer3 = nn.Linear(128, 256)\n",
        "        self.layer4 = nn.Linear(256, 512)\n",
        "        self.layer5 = nn.Linear(512, 256)\n",
        "        self.layer6 = nn.Linear(256, 128)\n",
        "        self.layer7 = nn.Linear(128, 64)\n",
        "        self.layer8 = nn.Linear(64, 32)\n",
        "        self.layer9 = nn.Linear(32, 16)\n",
        "        self.layer10 = nn.Linear(16, output_size)\n",
        "\n",
        "    def forward(self, x):\n",
        "        x = torch.relu(self.layer1(x))\n",
        "        x = torch.relu(self.layer2(x))\n",
        "        x = torch.relu(self.layer3(x))\n",
        "        x = torch.relu(self.layer4(x))\n",
        "        x = torch.relu(self.layer5(x))\n",
        "        x = torch.relu(self.layer6(x))\n",
        "        x = torch.relu(self.layer7(x))\n",
        "        x = torch.relu(self.layer8(x))\n",
        "        x = torch.relu(self.layer9(x))\n",
        "        out = self.layer10(x)\n",
        "        return out\n"
      ],
      "metadata": {
        "id": "IwpS4AaeUbuI"
      },
      "execution_count": 49,
      "outputs": []
    },
    {
      "cell_type": "markdown",
      "source": [
        "Here we set out hyper parameters (done through experimenting with different values \n",
        "\n",
        "1. The input size is 3 as there are 3 features \n",
        "2. The output-size is 2 as there are 2 targets "
      ],
      "metadata": {
        "id": "CBKfXQns96o-"
      }
    },
    {
      "cell_type": "code",
      "source": [
        "# Define the hyperparameters\n",
        "learning_rate = 0.001\n",
        "num_epochs = 1000\n",
        "input_size = 3\n",
        "output_size = 2"
      ],
      "metadata": {
        "id": "XqVcQKg7Vii0"
      },
      "execution_count": 32,
      "outputs": []
    },
    {
      "cell_type": "markdown",
      "source": [
        "We create the model and also add a loss function (MAE loss).\n",
        "\n",
        "To update the model parameters we use the Adam optimizer."
      ],
      "metadata": {
        "id": "VqtKGtwq-Iat"
      }
    },
    {
      "cell_type": "code",
      "source": [
        "# Initialize the model, loss function, and optimizer\n",
        "model = MultiVariateLinearRegression(input_size, \n",
        "                                     output_size)\n",
        "lossfn = nn.L1Loss()\n",
        "optimizer = torch.optim.Adam(model.parameters(), \n",
        "                            lr=learning_rate)"
      ],
      "metadata": {
        "id": "f05zG4IlVlsC"
      },
      "execution_count": 50,
      "outputs": []
    },
    {
      "cell_type": "code",
      "source": [
        "model.state_dict"
      ],
      "metadata": {
        "colab": {
          "base_uri": "https://localhost:8080/"
        },
        "id": "AHFkEK8TXfIR",
        "outputId": "ec12b225-ef51-40bd-ab47-34836baba7a7"
      },
      "execution_count": 68,
      "outputs": [
        {
          "output_type": "execute_result",
          "data": {
            "text/plain": [
              "<bound method Module.state_dict of MultiVariateLinearRegression(\n",
              "  (layer1): Linear(in_features=3, out_features=64, bias=True)\n",
              "  (layer2): Linear(in_features=64, out_features=128, bias=True)\n",
              "  (layer3): Linear(in_features=128, out_features=256, bias=True)\n",
              "  (layer4): Linear(in_features=256, out_features=512, bias=True)\n",
              "  (layer5): Linear(in_features=512, out_features=256, bias=True)\n",
              "  (layer6): Linear(in_features=256, out_features=128, bias=True)\n",
              "  (layer7): Linear(in_features=128, out_features=64, bias=True)\n",
              "  (layer8): Linear(in_features=64, out_features=32, bias=True)\n",
              "  (layer9): Linear(in_features=32, out_features=16, bias=True)\n",
              "  (layer10): Linear(in_features=16, out_features=2, bias=True)\n",
              ")>"
            ]
          },
          "metadata": {},
          "execution_count": 68
        }
      ]
    },
    {
      "cell_type": "markdown",
      "source": [
        "We first convert data frame to numpy array."
      ],
      "metadata": {
        "id": "kTl8AX_h-Veo"
      }
    },
    {
      "cell_type": "code",
      "source": [
        "a = X_train.values \n",
        "b = y_train.values \n",
        "c = X_test.values \n",
        "d = y_test.values "
      ],
      "metadata": {
        "id": "2NKhMvGFZDEu"
      },
      "execution_count": 46,
      "outputs": []
    },
    {
      "cell_type": "markdown",
      "source": [
        "The basic work flow is \n",
        "1. clear the gradients else they get accummulated in pytorch \n",
        "2. pass the input to the model \n",
        "3. calculate the loss \n",
        "4. calculate the gradients using loss.backward()\n",
        "5. Then perform the optimization. \n",
        "\n",
        "Repeat for epochs"
      ],
      "metadata": {
        "id": "lmTVoWoV_2me"
      }
    },
    {
      "cell_type": "code",
      "source": [
        "def train(model, criterion, optimizer, X_train, y_train):\n",
        "    # Convert numpy arrays to tensors\n",
        "    inputs = torch.from_numpy(a).float()\n",
        "    labels = torch.from_numpy(b).float()\n",
        "\n",
        "    # Zero the parameter gradients\n",
        "    optimizer.zero_grad()\n",
        "\n",
        "    # Forward + backward + optimize\n",
        "    outputs = model(inputs)\n",
        "    loss = lossfn(outputs, labels)\n",
        "    loss.backward()\n",
        "    optimizer.step()\n",
        "\n",
        "    return loss.item()\n"
      ],
      "metadata": {
        "id": "IJb4W5vnVCWD"
      },
      "execution_count": 51,
      "outputs": []
    },
    {
      "cell_type": "markdown",
      "source": [
        "For each epoch calculate the loss and percent loss, \n",
        "\n",
        "keep track of it to see how the model performs \n",
        "\n",
        "update the hyper parameters if necessary"
      ],
      "metadata": {
        "id": "tPqia1FyATTF"
      }
    },
    {
      "cell_type": "code",
      "source": [
        "# Train the model\n",
        "for epoch in range(num_epochs):\n",
        "    # Train the model for one epoch\n",
        "    loss = train(model, lossfn, optimizer, X_train, y_train)\n",
        "\n",
        "    # Print the loss every 100 epochs\n",
        "    if (epoch+1) % 100 == 0:\n",
        "        print(f\"Epoch [{epoch+1}/{num_epochs}], Loss: {loss:.4f}, percent_loss = {(loss/len(y_train))*100 :2f}\")\n"
      ],
      "metadata": {
        "colab": {
          "base_uri": "https://localhost:8080/"
        },
        "id": "uDnSVUhDVvJl",
        "outputId": "01402423-9526-4c73-9b3a-2bb323691aee"
      },
      "execution_count": 63,
      "outputs": [
        {
          "output_type": "stream",
          "name": "stdout",
          "text": [
            "Epoch [100/1000], Loss: 8.7145, percent_loss = 1.089314\n",
            "Epoch [200/1000], Loss: 8.6377, percent_loss = 1.079719\n",
            "Epoch [300/1000], Loss: 8.6520, percent_loss = 1.081500\n",
            "Epoch [400/1000], Loss: 8.5611, percent_loss = 1.070138\n",
            "Epoch [500/1000], Loss: 8.4437, percent_loss = 1.055462\n",
            "Epoch [600/1000], Loss: 8.4692, percent_loss = 1.058649\n",
            "Epoch [700/1000], Loss: 8.3843, percent_loss = 1.048031\n",
            "Epoch [800/1000], Loss: 8.4530, percent_loss = 1.056628\n",
            "Epoch [900/1000], Loss: 8.2550, percent_loss = 1.031878\n",
            "Epoch [1000/1000], Loss: 8.1569, percent_loss = 1.019610\n"
          ]
        }
      ]
    },
    {
      "cell_type": "markdown",
      "source": [
        "Test the model in evaluation mode or no_grad mode meaning the gradients are not calculated as it is not necessary."
      ],
      "metadata": {
        "id": "KfOC82mpAbow"
      }
    },
    {
      "cell_type": "code",
      "source": [
        "# Test the model\n",
        "with torch.no_grad():\n",
        "    inputs = torch.from_numpy(c).float()\n",
        "    labels = torch.from_numpy(d).float()\n",
        "    y_preds = model(inputs)\n",
        "    loss = lossfn(y_preds, labels)\n",
        "    percent_loss = (loss / len(labels)) * 100\n",
        "    print(f\"Test Loss: {loss:.4f}, Percent_loss: {percent_loss:.2f}%\")"
      ],
      "metadata": {
        "colab": {
          "base_uri": "https://localhost:8080/"
        },
        "id": "pgF_uyPTVypd",
        "outputId": "161fbfd9-9034-419b-ae85-59cf28f74ad1"
      },
      "execution_count": 64,
      "outputs": [
        {
          "output_type": "stream",
          "name": "stdout",
          "text": [
            "Test Loss: 10.0646, Percent_loss: 5.03%\n"
          ]
        }
      ]
    },
    {
      "cell_type": "markdown",
      "source": [
        "Do some predictions "
      ],
      "metadata": {
        "id": "a_QtvHzFAisr"
      }
    },
    {
      "cell_type": "code",
      "source": [
        "new_X = torch.tensor([[26.923264,54.880430,26.256636]], dtype=torch.float32)\n",
        "new_y_pred = model(new_X)"
      ],
      "metadata": {
        "id": "VnUo2qYsZa_y"
      },
      "execution_count": 65,
      "outputs": []
    },
    {
      "cell_type": "code",
      "source": [
        "print(new_y_pred)"
      ],
      "metadata": {
        "colab": {
          "base_uri": "https://localhost:8080/"
        },
        "id": "IjhtEDfkaO2E",
        "outputId": "35f418b7-a241-48b2-eae7-1130f4a12a1c"
      },
      "execution_count": 66,
      "outputs": [
        {
          "output_type": "stream",
          "name": "stdout",
          "text": [
            "tensor([[35.0747, 18.7170]], grad_fn=<AddmmBackward0>)\n"
          ]
        }
      ]
    },
    {
      "cell_type": "markdown",
      "source": [
        "Pretty close!! End of project!"
      ],
      "metadata": {
        "id": "I6RK45ha82En"
      }
    }
  ]
}